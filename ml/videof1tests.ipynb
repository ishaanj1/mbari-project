{
 "cells": [
  {
   "cell_type": "code",
   "execution_count": 2,
   "metadata": {
    "scrolled": true
   },
   "outputs": [],
   "source": [
    "from loading_data import queryDB\n",
    "import pandas as pd"
   ]
  },
  {
   "cell_type": "code",
   "execution_count": 3,
   "metadata": {},
   "outputs": [],
   "source": [
    "import json\n",
    "import numpy as np\n",
    "import copy\n",
    "import os\n",
    "\n",
    "config_path = 'config.json'\n",
    "\n",
    "with open(config_path) as config_buffer:\n",
    "   config = json.loads(config_buffer.read())\n",
    "\n",
    "model_path = config['model_weights']\n",
    "num_concepts = len(config['conceptids'])\n",
    "class_map_file = config['class_map']\n",
    "concepts = config['conceptids']\n",
    "classmap = pd.read_csv(class_map_file, header=None).to_dict()[0]"
   ]
  },
  {
   "cell_type": "code",
   "execution_count": 161,
   "metadata": {},
   "outputs": [
    {
     "data": {
      "text/html": [
       "<div>\n",
       "<style scoped>\n",
       "    .dataframe tbody tr th:only-of-type {\n",
       "        vertical-align: middle;\n",
       "    }\n",
       "\n",
       "    .dataframe tbody tr th {\n",
       "        vertical-align: top;\n",
       "    }\n",
       "\n",
       "    .dataframe thead th {\n",
       "        text-align: right;\n",
       "    }\n",
       "</style>\n",
       "<table border=\"1\" class=\"dataframe\">\n",
       "  <thead>\n",
       "    <tr style=\"text-align: right;\">\n",
       "      <th></th>\n",
       "      <th>videoid</th>\n",
       "      <th>total</th>\n",
       "      <th>count1629</th>\n",
       "      <th>count1210</th>\n",
       "      <th>count236</th>\n",
       "      <th>count383</th>\n",
       "      <th>count1133</th>\n",
       "    </tr>\n",
       "  </thead>\n",
       "  <tbody>\n",
       "    <tr>\n",
       "      <th>0</th>\n",
       "      <td>37</td>\n",
       "      <td>3916</td>\n",
       "      <td>0</td>\n",
       "      <td>4</td>\n",
       "      <td>2885</td>\n",
       "      <td>1024</td>\n",
       "      <td>3</td>\n",
       "    </tr>\n",
       "    <tr>\n",
       "      <th>1</th>\n",
       "      <td>39</td>\n",
       "      <td>2186</td>\n",
       "      <td>0</td>\n",
       "      <td>0</td>\n",
       "      <td>1077</td>\n",
       "      <td>1108</td>\n",
       "      <td>1</td>\n",
       "    </tr>\n",
       "    <tr>\n",
       "      <th>2</th>\n",
       "      <td>38</td>\n",
       "      <td>1032</td>\n",
       "      <td>0</td>\n",
       "      <td>0</td>\n",
       "      <td>660</td>\n",
       "      <td>371</td>\n",
       "      <td>1</td>\n",
       "    </tr>\n",
       "    <tr>\n",
       "      <th>3</th>\n",
       "      <td>34</td>\n",
       "      <td>941</td>\n",
       "      <td>0</td>\n",
       "      <td>2</td>\n",
       "      <td>860</td>\n",
       "      <td>78</td>\n",
       "      <td>1</td>\n",
       "    </tr>\n",
       "    <tr>\n",
       "      <th>4</th>\n",
       "      <td>24</td>\n",
       "      <td>459</td>\n",
       "      <td>0</td>\n",
       "      <td>0</td>\n",
       "      <td>459</td>\n",
       "      <td>0</td>\n",
       "      <td>0</td>\n",
       "    </tr>\n",
       "    <tr>\n",
       "      <th>5</th>\n",
       "      <td>32</td>\n",
       "      <td>420</td>\n",
       "      <td>0</td>\n",
       "      <td>61</td>\n",
       "      <td>80</td>\n",
       "      <td>273</td>\n",
       "      <td>6</td>\n",
       "    </tr>\n",
       "    <tr>\n",
       "      <th>6</th>\n",
       "      <td>33</td>\n",
       "      <td>340</td>\n",
       "      <td>0</td>\n",
       "      <td>16</td>\n",
       "      <td>208</td>\n",
       "      <td>109</td>\n",
       "      <td>7</td>\n",
       "    </tr>\n",
       "    <tr>\n",
       "      <th>7</th>\n",
       "      <td>86</td>\n",
       "      <td>331</td>\n",
       "      <td>0</td>\n",
       "      <td>40</td>\n",
       "      <td>143</td>\n",
       "      <td>148</td>\n",
       "      <td>0</td>\n",
       "    </tr>\n",
       "    <tr>\n",
       "      <th>8</th>\n",
       "      <td>98</td>\n",
       "      <td>309</td>\n",
       "      <td>0</td>\n",
       "      <td>29</td>\n",
       "      <td>181</td>\n",
       "      <td>97</td>\n",
       "      <td>2</td>\n",
       "    </tr>\n",
       "    <tr>\n",
       "      <th>9</th>\n",
       "      <td>35</td>\n",
       "      <td>288</td>\n",
       "      <td>0</td>\n",
       "      <td>9</td>\n",
       "      <td>221</td>\n",
       "      <td>58</td>\n",
       "      <td>0</td>\n",
       "    </tr>\n",
       "  </tbody>\n",
       "</table>\n",
       "</div>"
      ],
      "text/plain": [
       "   videoid  total  count1629  count1210  count236  count383  count1133\n",
       "0       37   3916          0          4      2885      1024          3\n",
       "1       39   2186          0          0      1077      1108          1\n",
       "2       38   1032          0          0       660       371          1\n",
       "3       34    941          0          2       860        78          1\n",
       "4       24    459          0          0       459         0          0\n",
       "5       32    420          0         61        80       273          6\n",
       "6       33    340          0         16       208       109          7\n",
       "7       86    331          0         40       143       148          0\n",
       "8       98    309          0         29       181        97          2\n",
       "9       35    288          0          9       221        58          0"
      ]
     },
     "execution_count": 161,
     "metadata": {},
     "output_type": "execute_result"
    }
   ],
   "source": [
    "counts = queryDB('''\n",
    "    select videoid, count(*) as total, \n",
    "        sum(case when conceptid=1629 then 1 else 0 end) As count1629, \n",
    "        sum(case when conceptid=1210 then 1 else 0 end) As count1210, \n",
    "        sum(case when conceptid=236 then 1 else 0 end) As count236, \n",
    "        sum(case when conceptid=383 then 1 else 0 end) As count383, \n",
    "        sum(case when conceptid=1133 then 1 else 0 end) As count1133 \n",
    "    from annotations where userid != 17 and conceptid in (1629, 1210, 236, 383, 1133)\n",
    "    group by videoid \n",
    "    order by total desc;\n",
    "       ''')\n",
    "\n",
    "counts.head(10)"
   ]
  },
  {
   "cell_type": "code",
   "execution_count": 162,
   "metadata": {
    "scrolled": true
   },
   "outputs": [],
   "source": [
    "#queryDB(\"select * from videos where filename='DocRicketts-0701_20141216T212020Z_00-48-12-26TC_h264.mp4'\")\n"
   ]
  },
  {
   "cell_type": "code",
   "execution_count": 132,
   "metadata": {},
   "outputs": [],
   "source": [
    "annotations = queryDB('select * from annotations where videoid=86 and userid!=17')\n",
    "\n",
    "fps = 29.97002997002997\n",
    "annotations['frame_num'] = np.rint(annotations['timeinvideo'] * fps).astype(int)\n",
    "annotations.head()"
   ]
  },
  {
   "cell_type": "code",
   "execution_count": 134,
   "metadata": {},
   "outputs": [],
   "source": [
    "# Get the IOU value for two different annotations\n",
    "def compute_overlap(annotationA, annotationB):\n",
    "    # if there is no overlap in x dimension\n",
    "    if ((annotationB.x2 - annotationA.x1) < 0) or ((annotationA.x2 - annotationB.x1) < 0):\n",
    "        return 0\n",
    "    # if there is no overlap in y dimension\n",
    "    if ((annotationB.y2 - annotationA.y1) < 0) or ((annotationA.y2 - annotationB.y1) < 0):\n",
    "        return 0\n",
    "    \n",
    "    areaA = (annotationA.x2-annotationA.x1) * (annotationA.y2-annotationA.y1)\n",
    "    areaB = (annotationB.x2-annotationB.x1) * (annotationB.y2-annotationB.y1)\n",
    "\n",
    "    width = min(annotationA.x2,annotationB.x2) - min(annotationA.x1,annotationB.x1)\n",
    "    height = min(annotationA.y2,annotationB.y2) - min(annotationA.y1,annotationB.y1)\n",
    "    \n",
    "    area_intersect = height * width\n",
    "    iou = area_intersect / (areaA + areaB - area_intersect)\n",
    "    \n",
    "    return iou"
   ]
  },
  {
   "cell_type": "code",
   "execution_count": 227,
   "metadata": {},
   "outputs": [],
   "source": [
    "# GET RESULTS, RENAME ID COLUMNS in RESULTS\n",
    "\n",
    "results = pd.read_csv('results86.csv')\n",
    "results.columns = ['id', 'x1', 'y1', 'x2', 'y2', 'label', 'confidence', 'objectid', 'frame_num']\n",
    "\n",
    "#results.head()"
   ]
  },
  {
   "cell_type": "code",
   "execution_count": 228,
   "metadata": {},
   "outputs": [
    {
     "data": {
      "text/plain": [
       "<matplotlib.axes._subplots.AxesSubplot at 0x12152a7f0>"
      ]
     },
     "execution_count": 228,
     "metadata": {},
     "output_type": "execute_result"
    },
    {
     "data": {
      "image/png": "[encoded data removed]",
      "text/plain": [
       "<Figure size 432x288 with 1 Axes>"
      ]
     },
     "metadata": {
      "needs_background": "light"
     },
     "output_type": "display_data"
    }
   ],
   "source": [
    "area = (results.x2 - results.x1) * (results.y2 - results.y1)\n",
    "area.hist(bins=200, range=(0,20000))"
   ]
  },
  {
   "cell_type": "code",
   "execution_count": null,
   "metadata": {},
   "outputs": [],
   "source": []
  },
  {
   "cell_type": "code",
   "execution_count": 229,
   "metadata": {},
   "outputs": [
    {
     "data": {
      "text/plain": [
       "2372"
      ]
     },
     "execution_count": 229,
     "metadata": {},
     "output_type": "execute_result"
    }
   ],
   "source": [
    "# Number of predicted objects\n",
    "len(results.objectid.value_counts())"
   ]
  },
  {
   "cell_type": "code",
   "execution_count": 230,
   "metadata": {},
   "outputs": [
    {
     "data": {
      "text/plain": [
       "331"
      ]
     },
     "execution_count": 230,
     "metadata": {},
     "output_type": "execute_result"
    }
   ],
   "source": [
    "# Number of test annotations for our concepts\n",
    "len(annotations[[(a in concepts) for a in annotations.conceptid]])"
   ]
  },
  {
   "cell_type": "code",
   "execution_count": null,
   "metadata": {},
   "outputs": [],
   "source": []
  },
  {
   "cell_type": "code",
   "execution_count": 232,
   "metadata": {},
   "outputs": [],
   "source": [
    "# Limit Results based on object max frame confidence\n",
    "def conf_limit_objects(pred, threshold):\n",
    "    max_conf = pd.DataFrame(pred.groupby('objectid').confidence.max())\n",
    "    above_thresh = max_conf[max_conf.confidence > 0.30].index\n",
    "    return pred[[(obj in above_thresh) for obj in pred.objectid]]\n",
    "    "
   ]
  },
  {
   "cell_type": "code",
   "execution_count": 233,
   "metadata": {},
   "outputs": [],
   "source": [
    "results = conf_limit_objects(results, 0.30)"
   ]
  },
  {
   "cell_type": "code",
   "execution_count": 234,
   "metadata": {},
   "outputs": [
    {
     "data": {
      "text/plain": [
       "98"
      ]
     },
     "execution_count": 234,
     "metadata": {},
     "output_type": "execute_result"
    }
   ],
   "source": [
    "# Number of predicted objects post thresholding\n",
    "len(results.objectid.value_counts())"
   ]
  },
  {
   "cell_type": "code",
   "execution_count": 235,
   "metadata": {},
   "outputs": [],
   "source": [
    "# REVISED LABEL TRANSFER USING HIGHEST SUM OF CONFIDENCES\n",
    "\n",
    "# conf_sums = results.groupby(['objectid', 'label']).confidence.sum()\n",
    "# df = conf_sums.reset_index()\n",
    "# df2 = df.loc[df.groupby('objectid').label.idxmax()]\n",
    "# labels = dict(zip(df2.objectid, df2.label))\n",
    "# results['label'] = results.objectid.apply(lambda x: concepts[int(labels[x])])\n",
    "# results['conceptid'] = results['label']\n"
   ]
  },
  {
   "cell_type": "code",
   "execution_count": 236,
   "metadata": {},
   "outputs": [],
   "source": [
    "# REVISED LABEL TRANSFER USING HIGHEST MAXIMUM CONFIDENCE\n",
    "\n",
    "# conf_max = results.groupby(['objectid', 'label']).confidence.max()\n",
    "# df = conf_max.reset_index()\n",
    "# df2 = df.loc[df.groupby('objectid').label.idxmax()]\n",
    "# labels = dict(zip(df2.objectid, df2.label))\n",
    "# results['label'] = results.objectid.apply(lambda x: concepts[int(labels[x])])\n",
    "# results['conceptid'] = results['label']\n"
   ]
  },
  {
   "cell_type": "code",
   "execution_count": 237,
   "metadata": {
    "scrolled": false
   },
   "outputs": [],
   "source": [
    "# Add the majority concept id to all frames\n",
    "\n",
    "label = None\n",
    "objects = results.groupby(['objectid'])\n",
    "for oid, result in objects:\n",
    "    scores = {}\n",
    "    # SHOULD THIS BE A WEIGHTED SUM??\n",
    "    for k , label in result.groupby(['label']):\n",
    "        scores[k] = label.confidence.mean() # MEAN / MAX / SUM?\n",
    "    idmax = max(scores.keys(), key=(lambda k: scores[k]))\n",
    "    results.loc[results.objectid == oid, 'label'] = idmax\n",
    "results['label'] = results['label'].apply(lambda x: concepts[int(x)])\n",
    "results['conceptid'] = results['label']"
   ]
  },
  {
   "cell_type": "code",
   "execution_count": 238,
   "metadata": {},
   "outputs": [],
   "source": [
    "#results.groupby('objectid').label.value_counts()"
   ]
  },
  {
   "cell_type": "code",
   "execution_count": 239,
   "metadata": {},
   "outputs": [],
   "source": [
    "# Limit results based on tracked object length ( > 30 frames)\n",
    "def length_limit_objects(pred, threshold):\n",
    "    obj_len = pred.groupby('objectid').conceptid.value_counts()\n",
    "    len_thresh = obj_len[obj_len > threshold]\n",
    "    return pred[[(obj in len_thresh) for obj in pred.objectid]] "
   ]
  },
  {
   "cell_type": "code",
   "execution_count": 240,
   "metadata": {},
   "outputs": [],
   "source": [
    "results = length_limit_objects(results, 15)"
   ]
  },
  {
   "cell_type": "code",
   "execution_count": 241,
   "metadata": {},
   "outputs": [
    {
     "data": {
      "text/plain": [
       "93"
      ]
     },
     "execution_count": 241,
     "metadata": {},
     "output_type": "execute_result"
    }
   ],
   "source": [
    "len(results.objectid.value_counts())"
   ]
  },
  {
   "cell_type": "code",
   "execution_count": 248,
   "metadata": {},
   "outputs": [],
   "source": [
    "df = results.loc[results.groupby('objectid').confidence.idxmax()]"
   ]
  },
  {
   "cell_type": "code",
   "execution_count": 249,
   "metadata": {},
   "outputs": [
    {
     "data": {
      "text/plain": [
       "<matplotlib.axes._subplots.AxesSubplot at 0x12376b588>"
      ]
     },
     "execution_count": 249,
     "metadata": {},
     "output_type": "execute_result"
    },
    {
     "data": {
      "image/png": "[encoded data removed]",
      "text/plain": [
       "<Figure size 432x288 with 1 Axes>"
      ]
     },
     "metadata": {
      "needs_background": "light"
     },
     "output_type": "display_data"
    }
   ],
   "source": [
    "area = (df.x2 - df.x1) * (df.y2 - df.y1)\n",
    "area.hist(bins=200, range=(0,20000))"
   ]
  },
  {
   "cell_type": "code",
   "execution_count": null,
   "metadata": {},
   "outputs": [],
   "source": []
  },
  {
   "cell_type": "code",
   "execution_count": 243,
   "metadata": {},
   "outputs": [],
   "source": [
    "# test counts\n",
    "def get_counts(results, annotations):\n",
    "    grouped = results.groupby(['objectid']).label.mean().reset_index()\n",
    "    counts = grouped.groupby('label').count()\n",
    "    counts.columns = ['pred_num']\n",
    "    groundtruth_counts = pd.DataFrame(annotations.groupby('conceptid').id.count())\n",
    "    groundtruth_counts.columns = ['true_num']\n",
    "    return pd.concat((counts, groundtruth_counts), axis=1, join='outer').fillna(0)\n"
   ]
  },
  {
   "cell_type": "code",
   "execution_count": 244,
   "metadata": {},
   "outputs": [
    {
     "data": {
      "text/html": [
       "<div>\n",
       "<style scoped>\n",
       "    .dataframe tbody tr th:only-of-type {\n",
       "        vertical-align: middle;\n",
       "    }\n",
       "\n",
       "    .dataframe tbody tr th {\n",
       "        vertical-align: top;\n",
       "    }\n",
       "\n",
       "    .dataframe thead th {\n",
       "        text-align: right;\n",
       "    }\n",
       "</style>\n",
       "<table border=\"1\" class=\"dataframe\">\n",
       "  <thead>\n",
       "    <tr style=\"text-align: right;\">\n",
       "      <th></th>\n",
       "      <th>pred_num</th>\n",
       "      <th>true_num</th>\n",
       "    </tr>\n",
       "  </thead>\n",
       "  <tbody>\n",
       "    <tr>\n",
       "      <th>236</th>\n",
       "      <td>47.0</td>\n",
       "      <td>143</td>\n",
       "    </tr>\n",
       "    <tr>\n",
       "      <th>237</th>\n",
       "      <td>0.0</td>\n",
       "      <td>10</td>\n",
       "    </tr>\n",
       "    <tr>\n",
       "      <th>383</th>\n",
       "      <td>43.0</td>\n",
       "      <td>148</td>\n",
       "    </tr>\n",
       "    <tr>\n",
       "      <th>812</th>\n",
       "      <td>0.0</td>\n",
       "      <td>1</td>\n",
       "    </tr>\n",
       "    <tr>\n",
       "      <th>1019</th>\n",
       "      <td>0.0</td>\n",
       "      <td>6</td>\n",
       "    </tr>\n",
       "    <tr>\n",
       "      <th>1034</th>\n",
       "      <td>0.0</td>\n",
       "      <td>24</td>\n",
       "    </tr>\n",
       "    <tr>\n",
       "      <th>1210</th>\n",
       "      <td>3.0</td>\n",
       "      <td>40</td>\n",
       "    </tr>\n",
       "    <tr>\n",
       "      <th>1399</th>\n",
       "      <td>0.0</td>\n",
       "      <td>2</td>\n",
       "    </tr>\n",
       "    <tr>\n",
       "      <th>3100</th>\n",
       "      <td>0.0</td>\n",
       "      <td>51</td>\n",
       "    </tr>\n",
       "    <tr>\n",
       "      <th>3386</th>\n",
       "      <td>0.0</td>\n",
       "      <td>1</td>\n",
       "    </tr>\n",
       "  </tbody>\n",
       "</table>\n",
       "</div>"
      ],
      "text/plain": [
       "      pred_num  true_num\n",
       "236       47.0       143\n",
       "237        0.0        10\n",
       "383       43.0       148\n",
       "812        0.0         1\n",
       "1019       0.0         6\n",
       "1034       0.0        24\n",
       "1210       3.0        40\n",
       "1399       0.0         2\n",
       "3100       0.0        51\n",
       "3386       0.0         1"
      ]
     },
     "execution_count": 244,
     "metadata": {},
     "output_type": "execute_result"
    }
   ],
   "source": [
    "concept_counts = get_counts(results, annotations)\n",
    "concept_counts"
   ]
  },
  {
   "cell_type": "code",
   "execution_count": 151,
   "metadata": {},
   "outputs": [],
   "source": [
    "def resize(row):\n",
    "    new_width = 640\n",
    "    new_height = 480\n",
    "    x_ratio = (row.videowidth / new_width)\n",
    "    y_ratio = (row.videoheight / new_height)\n",
    "    row.videowidth = new_width\n",
    "    row.videoheight = new_height\n",
    "    row.x1 = row.x1 / x_ratio\n",
    "    row.x2 = row.x2 / x_ratio\n",
    "    row.y1 = row.y1 / y_ratio\n",
    "    row.y2 = row.y2 / y_ratio\n",
    "    return row"
   ]
  },
  {
   "cell_type": "code",
   "execution_count": 152,
   "metadata": {},
   "outputs": [],
   "source": [
    "# RESIZE THE ANNOTATIONS\n",
    "annotations = annotations.apply(resize, axis=1)"
   ]
  },
  {
   "cell_type": "code",
   "execution_count": 153,
   "metadata": {},
   "outputs": [],
   "source": [
    "# pred_frames = results.frame_num.unique()\n",
    "# test_frames = annotations.frame_num.unique()\n",
    "# test_frames[[(val in pred_frames) for val in test_frames]]\n",
    "# test_frames"
   ]
  },
  {
   "cell_type": "code",
   "execution_count": 154,
   "metadata": {},
   "outputs": [],
   "source": [
    "def score_predictions(validation, predictions, iou_thresh, concepts, fps):\n",
    "    \n",
    "    # Maintain a set of predicted objects to verify\n",
    "    detected_objects = []\n",
    "    obj_map = predictions.groupby('objectid', sort=False).conceptid.max()\n",
    "    \n",
    "    # group predictions by video frames\n",
    "    predictions = predictions.groupby('frame_num', sort=False)\n",
    "    predictions = [df for _, df in predictions]\n",
    "    \n",
    "    # mapping frames to predictions index\n",
    "    frame_data = {}\n",
    "    for i, group in enumerate(predictions):\n",
    "        frame_num = group.iloc[0]['frame_num']\n",
    "        frame_data[frame_num] = i\n",
    "    \n",
    "    # group validation annotations by frames\n",
    "    validation = validation.groupby('frame_num', sort=False)\n",
    "    validation = [df for _, df in validation]\n",
    "    \n",
    "    # initialize counters for each concept\n",
    "    true_positives = dict(zip(concepts,[0] * len(concepts)))\n",
    "    false_positives = dict(zip(concepts,[0] * len(concepts)))\n",
    "    false_negatives = dict(zip(concepts,[0] * len(concepts)))\n",
    "    \n",
    "    # get true and false positives for each frame of validation data\n",
    "    for group in validation:\n",
    "        try: # get corresponding predictions for this frame\n",
    "            frame_num = group.iloc[0]['frame_num']\n",
    "            predicted = predictions[frame_data[frame_num]]\n",
    "        except:\n",
    "            continue # False Negatives already covered\n",
    "            \n",
    "        detected_truths = dict(zip(concepts, [0] * len(concepts)))\n",
    "        for index, truth in group.iterrows():\n",
    "            for index, prediction in predicted.iterrows():\n",
    "                if (prediction.conceptid == truth.conceptid\n",
    "                        and compute_overlap(truth, prediction) > iou_thresh\n",
    "                        and prediction.objectid not in detected_objects):\n",
    "                    detected_objects.append(prediction.objectid)\n",
    "                    true_positives[prediction.conceptid] += 1\n",
    "                    detected_truths[prediction.conceptid] += 1\n",
    "                    \n",
    "        # False Negatives (Missed ground truth predicitions)\n",
    "        counts = group.conceptid.value_counts()\n",
    "        for concept in concepts:\n",
    "            count = counts[concept] if (concept in counts.index) else 0\n",
    "            false_negatives[concept] += count - detected_truths[concept]\n",
    "    \n",
    "    # False Positives (No ground truth prediction at any frame for that object)\n",
    "    undetected_objects = set(obj_map.index) - set(detected_objects)\n",
    "    for obj in undetected_objects:\n",
    "        concept = obj_map[obj]\n",
    "        false_positives[concept] += 1\n",
    "    \n",
    "    metrics = pd.DataFrame()\n",
    "    for concept in concepts:\n",
    "        TP = true_positives[concept]\n",
    "        FP = false_positives[concept]\n",
    "        FN = false_negatives[concept]\n",
    "        precision = TP / (TP + FP) if (TP + FP) != 0 else 0\n",
    "        recall = TP / (TP + FN) if (TP + FN) != 0 else 0\n",
    "        f1 = (2*recall*precision / (precision+recall)) if (precision+recall) != 0 else 0\n",
    "        metrics = metrics.append([[concept, TP, FP, FN, precision, recall, f1]])\n",
    "    metrics.columns = ['conceptid', 'TP', 'FP', 'FN', 'Precision', 'Recall', 'F1']\n",
    "    return metrics\n"
   ]
  },
  {
   "cell_type": "code",
   "execution_count": 155,
   "metadata": {},
   "outputs": [],
   "source": [
    "fps = 29.97002997002997\n",
    "metrics = score_predictions(test_annotations, results, 0.25, concepts, fps)\n"
   ]
  },
  {
   "cell_type": "code",
   "execution_count": 156,
   "metadata": {},
   "outputs": [],
   "source": [
    "#metrics.set_index('conceptid')"
   ]
  },
  {
   "cell_type": "code",
   "execution_count": 157,
   "metadata": {},
   "outputs": [
    {
     "data": {
      "text/html": [
       "<div>\n",
       "<style scoped>\n",
       "    .dataframe tbody tr th:only-of-type {\n",
       "        vertical-align: middle;\n",
       "    }\n",
       "\n",
       "    .dataframe tbody tr th {\n",
       "        vertical-align: top;\n",
       "    }\n",
       "\n",
       "    .dataframe thead th {\n",
       "        text-align: right;\n",
       "    }\n",
       "</style>\n",
       "<table border=\"1\" class=\"dataframe\">\n",
       "  <thead>\n",
       "    <tr style=\"text-align: right;\">\n",
       "      <th></th>\n",
       "      <th>TP</th>\n",
       "      <th>FP</th>\n",
       "      <th>FN</th>\n",
       "      <th>Precision</th>\n",
       "      <th>Recall</th>\n",
       "      <th>F1</th>\n",
       "      <th>pred_num</th>\n",
       "      <th>true_num</th>\n",
       "    </tr>\n",
       "    <tr>\n",
       "      <th>conceptid</th>\n",
       "      <th></th>\n",
       "      <th></th>\n",
       "      <th></th>\n",
       "      <th></th>\n",
       "      <th></th>\n",
       "      <th></th>\n",
       "      <th></th>\n",
       "      <th></th>\n",
       "    </tr>\n",
       "  </thead>\n",
       "  <tbody>\n",
       "    <tr>\n",
       "      <th>1629</th>\n",
       "      <td>0</td>\n",
       "      <td>0</td>\n",
       "      <td>0</td>\n",
       "      <td>0.000000</td>\n",
       "      <td>0.000000</td>\n",
       "      <td>0.000000</td>\n",
       "      <td>NaN</td>\n",
       "      <td>NaN</td>\n",
       "    </tr>\n",
       "    <tr>\n",
       "      <th>1210</th>\n",
       "      <td>1</td>\n",
       "      <td>2</td>\n",
       "      <td>12</td>\n",
       "      <td>0.333333</td>\n",
       "      <td>0.076923</td>\n",
       "      <td>0.125000</td>\n",
       "      <td>3.0</td>\n",
       "      <td>40.0</td>\n",
       "    </tr>\n",
       "    <tr>\n",
       "      <th>236</th>\n",
       "      <td>24</td>\n",
       "      <td>23</td>\n",
       "      <td>33</td>\n",
       "      <td>0.510638</td>\n",
       "      <td>0.421053</td>\n",
       "      <td>0.461538</td>\n",
       "      <td>47.0</td>\n",
       "      <td>143.0</td>\n",
       "    </tr>\n",
       "    <tr>\n",
       "      <th>383</th>\n",
       "      <td>39</td>\n",
       "      <td>4</td>\n",
       "      <td>22</td>\n",
       "      <td>0.906977</td>\n",
       "      <td>0.639344</td>\n",
       "      <td>0.750000</td>\n",
       "      <td>43.0</td>\n",
       "      <td>148.0</td>\n",
       "    </tr>\n",
       "    <tr>\n",
       "      <th>1133</th>\n",
       "      <td>0</td>\n",
       "      <td>0</td>\n",
       "      <td>0</td>\n",
       "      <td>0.000000</td>\n",
       "      <td>0.000000</td>\n",
       "      <td>0.000000</td>\n",
       "      <td>NaN</td>\n",
       "      <td>NaN</td>\n",
       "    </tr>\n",
       "  </tbody>\n",
       "</table>\n",
       "</div>"
      ],
      "text/plain": [
       "           TP  FP  FN  Precision    Recall        F1  pred_num  true_num\n",
       "conceptid                                                               \n",
       "1629        0   0   0   0.000000  0.000000  0.000000       NaN       NaN\n",
       "1210        1   2  12   0.333333  0.076923  0.125000       3.0      40.0\n",
       "236        24  23  33   0.510638  0.421053  0.461538      47.0     143.0\n",
       "383        39   4  22   0.906977  0.639344  0.750000      43.0     148.0\n",
       "1133        0   0   0   0.000000  0.000000  0.000000       NaN       NaN"
      ]
     },
     "execution_count": 157,
     "metadata": {},
     "output_type": "execute_result"
    }
   ],
   "source": [
    "metrics.set_index('conceptid').join(concept_counts)"
   ]
  },
  {
   "cell_type": "code",
   "execution_count": null,
   "metadata": {},
   "outputs": [],
   "source": [
    "# Aim for 90% precision, at the sacrifice of 50% recall"
   ]
  },
  {
   "cell_type": "code",
   "execution_count": null,
   "metadata": {},
   "outputs": [],
   "source": [
    "# make a threshold for the bounding box size of the annotation\n",
    "# for the maximum confidence annotation in each object\n",
    "# maybe 10x10 pixels"
   ]
  },
  {
   "cell_type": "code",
   "execution_count": null,
   "metadata": {},
   "outputs": [],
   "source": [
    "# app.post('/api/annotations', passport.authenticate('jwt', { session: false }),\n",
    "#   async (req, res) => {\n",
    "#     data = [\n",
    "#       req.user.id,\n",
    "#       req.body.videoId,\n",
    "#       req.body.conceptId,\n",
    "#       req.body.timeinvideo,\n",
    "#       req.body.x1,\n",
    "#       req.body.y1,\n",
    "#       req.body.x2,\n",
    "#       req.body.y2,\n",
    "#       req.body.videoWidth,\n",
    "#       req.body.videoHeight,\n",
    "#       req.body.image + '.png',\n",
    "#       req.body.imagewithbox + '.png',\n",
    "#       req.body.comment,\n",
    "#       req.body.unsure\n",
    "#     ];\n",
    "#     const queryText = 'INSERT INTO annotations(userid, videoid,\\\n",
    "#                        conceptid, timeinvideo, \\\n",
    "#                        x1, y1, x2, y2, \\\n",
    "#                        videoWidth, videoHeight, \\\n",
    "#                        image, imagewithbox, \\\n",
    "#                        comment, unsure, dateannotated) \\\n",
    "#                        VALUES($1, $2, $3, $4, $5, $6, $7, $8, $9, $10,\\\n",
    "#                        $11, $12, $13, $14, current_timestamp) RETURNING *';\n",
    "#     try {\n",
    "#       let insertRes = await psql.query(queryText, data);\n",
    "#       res.json({ message: \"Annotated\", value: JSON.stringify(insertRes.rows[0]) });\n",
    "#     } catch (error) {\n",
    "#       console.log(error)\n",
    "#       res.status(400).json(error);\n",
    "#     }\n",
    "#   });"
   ]
  },
  {
   "cell_type": "code",
   "execution_count": 352,
   "metadata": {},
   "outputs": [
    {
     "data": {
      "text/plain": [
       "Index(['id', 'x1', 'y1', 'x2', 'y2', 'label', 'confidence', 'objectid',\n",
       "       'frame_num', 'conceptid'],\n",
       "      dtype='object')"
      ]
     },
     "execution_count": 352,
     "metadata": {},
     "output_type": "execute_result"
    }
   ],
   "source": [
    "results.columns"
   ]
  },
  {
   "cell_type": "code",
   "execution_count": 347,
   "metadata": {},
   "outputs": [],
   "source": [
    "from dotenv import load_dotenv\n",
    "import boto3\n",
    "\n",
    "#Load environment variables\n",
    "load_dotenv(dotenv_path=\"../.env\")\n",
    "AWS_ACCESS_KEY_ID = os.getenv(\"AWS_ACCESS_KEY_ID\")\n",
    "AWS_SECRET_ACCESS_KEY = os.getenv(\"AWS_SECRET_ACCESS_KEY\")\n",
    "S3_BUCKET = os.getenv('AWS_S3_BUCKET_NAME')\n",
    "s3 = boto3.client('s3', aws_access_key_id = AWS_ACCESS_KEY_ID, aws_secret_access_key = AWS_SECRET_ACCESS_KEY)\n",
    "S3_VIDEO_FOLDER = os.getenv('AWS_S3_BUCKET_VIDEOS_FOLDER')\n"
   ]
  },
  {
   "cell_type": "code",
   "execution_count": null,
   "metadata": {},
   "outputs": [],
   "source": [
    "#dateannotated\n",
    "\n",
    "# Uploads retina net prediciton images and puts annotation in database\n",
    "def upload_prediction_image(prediction, userid, videoid, videoWidth, videoHeight, \n",
    "                            image, imagewithbox, comment, unsure, dateannotated):\n",
    "    \n",
    "    con = connect(database=DB_NAME, host=DB_HOST, user=DB_USER, password=DB_PASSWORD)\n",
    "    cursor = con.cursor()\n",
    "    \n",
    "    no_box = str(annotation.videoid) + \"_\" + str(timeinvideo) + \"_retinanet.png\"\n",
    "    box = str(annotation.id) + \"_\" + str(timeinvideo) + \"_box_retinanet.png\"\n",
    "    temp_file = str(uuid.uuid4()) + \".png\"\n",
    "    \n",
    "    cv2.imwrite(temp_file, frame)\n",
    "    s3.upload_file(temp_file, S3_BUCKET, S3_ANNOTATION_FOLDER + no_box, ExtraArgs={'ContentType':'image/png'}) \n",
    "    os.system('rm '+ temp_file)\n",
    "    cv2.imwrite(temp_file, frame_w_box)\n",
    "    s3.upload_file(temp_file, S3_BUCKET, S3_ANNOTATION_FOLDER + box,  ExtraArgs={'ContentType':'image/png'})\n",
    "    os.system('rm '+ temp_file)\n",
    "    \n",
    "    cursor.execute(\n",
    "        \"\"\"\n",
    "        INSERT INTO annotations (\n",
    "        videoid, userid, conceptid, timeinvideo, x1, y1, x2, y2, \n",
    "        videowidth, videoheight, dateannotated, image, imagewithbox, comment, unsure, originalid) \n",
    "        VALUES (%d, %d, %d, %d, %f, %f, %f, %f, %f, %d, %d, %s, %s, %s, %s, %s, %d)\n",
    "        \"\"\",\n",
    "        (annotation.videoid, AI_ID, annotation.conceptid, timeinvideo, x1, y1, \n",
    "        x2, y2, VIDEO_WIDTH, VIDEO_HEIGHT, datetime.datetime.now().date(), no_box, box, \n",
    "        annotation.comment, annotation.unsure, annotation.id)\n",
    "    )\n",
    "    con.commit()\n",
    "\n",
    "\n"
   ]
  },
  {
   "cell_type": "code",
   "execution_count": 343,
   "metadata": {},
   "outputs": [
    {
     "name": "stdout",
     "output_type": "stream",
     "text": [
      "       id     x1     y1     x2     y2  label  confidence  \\\n",
      "37027  14  242.0  265.0  351.0  360.0    383         NaN   \n",
      "\n",
      "                                   objectid  frame_num  conceptid  \n",
      "37027  06db98fa-8b79-4b61-9f98-2e34b249fd7f       7594        383  \n",
      "        id     x1     y1     x2     y2  label  confidence  \\\n",
      "98707  161  574.0  330.0  646.0  438.0    236         NaN   \n",
      "\n",
      "                                   objectid  frame_num  conceptid  \n",
      "98707  0ae6daf8-0954-4b85-8c9f-68a473268cfe      18512        236  \n",
      "        id     x1     y1     x2     y2  label  confidence  \\\n",
      "125990  53  392.0  322.0  452.0  370.0    236         NaN   \n",
      "\n",
      "                                    objectid  frame_num  conceptid  \n",
      "125990  0c4c780f-7dbc-4544-91e4-c04aad565a50      21846        236  \n",
      "       id         x1          y1          x2          y2  label  confidence  \\\n",
      "47315  60  12.228522  227.336639  166.922592  379.103699    383    0.410792   \n",
      "\n",
      "                                   objectid  frame_num  conceptid  \n",
      "47315  0edb53e0-a7f7-4ea0-90cb-28dfc49d0459       9350        383  \n",
      "        id     x1     y1     x2     y2  label  confidence  \\\n",
      "179214  63  375.0  222.0  493.0  323.0    236         NaN   \n",
      "\n",
      "                                    objectid  frame_num  conceptid  \n",
      "179214  11205754-4338-4506-b3de-79e4ac6955a1      28684        236  \n",
      "        id     x1     y1     x2     y2  label  confidence  \\\n",
      "133253  26  505.0  208.0  630.0  312.0    236         NaN   \n",
      "\n",
      "                                    objectid  frame_num  conceptid  \n",
      "133253  1d3deb8c-a9f6-4768-ba9d-911c1a6b751c      22166        236  \n",
      "       id   x1          y1          x2     y2  label  confidence  \\\n",
      "91515  30  0.0  428.319489  106.117599  480.0    383    0.105326   \n",
      "\n",
      "                                   objectid  frame_num  conceptid  \n",
      "91515  20dbf12c-ae2b-4fec-bec9-2d7aeacf0e06      17100        383  \n",
      "       id     x1     y1     x2     y2  label  confidence  \\\n",
      "82720  43  220.0  225.0  330.0  323.0    236         NaN   \n",
      "\n",
      "                                   objectid  frame_num  conceptid  \n",
      "82720  2313fc0f-8858-4772-83a3-a53e0c45099e      15934        236  \n",
      "        id     x1    y1     x2    y2  label  confidence  \\\n",
      "103472  26  540.0  22.0  602.0  80.0    236         NaN   \n",
      "\n",
      "                                    objectid  frame_num  conceptid  \n",
      "103472  2373331e-49a1-4020-ad6e-085fb079f8bb      19056        236  \n",
      "       id    x1     y1     x2     y2  label  confidence  \\\n",
      "91600  53  23.0  303.0  166.0  424.0    383         NaN   \n",
      "\n",
      "                                   objectid  frame_num  conceptid  \n",
      "91600  23effe7b-d1c7-474a-abcd-360a990963a0      17083        383  \n",
      "        id    x1    y1     x2     y2  label  confidence  \\\n",
      "106014  61  70.0  41.0  370.0  238.0    383         NaN   \n",
      "\n",
      "                                    objectid  frame_num  conceptid  \n",
      "106014  29b3b612-c283-4e28-b67b-1de1107de809      19222        383  \n",
      "        id     x1     y1     x2     y2  label  confidence  \\\n",
      "123681  28  275.0  184.0  404.0  303.0    236         NaN   \n",
      "\n",
      "                                    objectid  frame_num  conceptid  \n",
      "123681  2a08bcb0-da85-42ac-9041-509668aeb552      21338        236  \n",
      "       id    x1     y1     x2     y2  label  confidence  \\\n",
      "95929  39  15.0  168.0  141.0  301.0    236         NaN   \n",
      "\n",
      "                                   objectid  frame_num  conceptid  \n",
      "95929  2bb32f10-70cc-48c9-b08b-337b1012d1b2      17989        236  \n",
      "       id     x1     y1     x2     y2  label  confidence  \\\n",
      "97271  16  547.0  334.0  608.0  383.0    236         NaN   \n",
      "\n",
      "                                   objectid  frame_num  conceptid  \n",
      "97271  2d5d3506-86ee-4a1f-9d3f-491225a25b65      18136        236  \n",
      "       id    x1     y1     x2     y2  label  confidence  \\\n",
      "94111  50  88.0  141.0  176.0  217.0    383         NaN   \n",
      "\n",
      "                                   objectid  frame_num  conceptid  \n",
      "94111  316bd1f0-4745-47ab-a558-b802cda51407      17460        383  \n",
      "       id     x1     y1     x2     y2  label  confidence  \\\n",
      "34824  48  203.0  223.0  357.0  344.0    383         NaN   \n",
      "\n",
      "                                   objectid  frame_num  conceptid  \n",
      "34824  31d0b9a7-3d85-417c-bb29-e09502e39fea       7169        383  \n",
      "       id     x1     y1     x2     y2  label  confidence  \\\n",
      "27765  40  124.0  194.0  300.0  339.0    383         NaN   \n",
      "\n",
      "                                   objectid  frame_num  conceptid  \n",
      "27765  34d815c3-73e4-4c3a-adee-f5a52ae2d156       6712        383  \n",
      "       id     x1     y1     x2     y2  label  confidence  \\\n",
      "99004  24  517.0  246.0  583.0  306.0    236         NaN   \n",
      "\n",
      "                                   objectid  frame_num  conceptid  \n",
      "99004  3a11b05b-8ead-42b2-8e1f-8ec3eca56c8d      18654        236  \n",
      "     id     x1     y1     x2     y2  label  confidence  \\\n",
      "605  65  366.0  107.0  503.0  218.0    383         NaN   \n",
      "\n",
      "                                 objectid  frame_num  conceptid  \n",
      "605  3d68c20d-a18d-4682-9b93-d42fe2e516c5        255        383  \n",
      "        id          x1         y1          x2         y2  label  confidence  \\\n",
      "154756  48  238.105103  152.62706  485.510284  314.23645    383    0.127406   \n",
      "\n",
      "                                    objectid  frame_num  conceptid  \n",
      "154756  3d96d874-ea26-4d87-b325-a0ae3eb2ef9b      24760        383  \n",
      "       id          x1          y1          x2          y2  label  confidence  \\\n",
      "25683  40  269.449921  171.468735  386.412323  260.242889    383    0.104926   \n",
      "\n",
      "                                   objectid  frame_num  conceptid  \n",
      "25683  3e4dfec8-5b2a-4bfe-ad95-2a78b0a65720       6220        383  \n",
      "        id     x1     y1     x2     y2  label  confidence  \\\n",
      "138726   8  517.0  415.0  583.0  479.0    236         NaN   \n",
      "\n",
      "                                    objectid  frame_num  conceptid  \n",
      "138726  3f0900d7-ef7c-4dcc-976f-108b5aeaeaa2      23008        236  \n",
      "        id   x1     y1     x2     y2  label  confidence  \\\n",
      "140582  54  4.0  111.0  262.0  281.0    383         NaN   \n",
      "\n",
      "                                    objectid  frame_num  conceptid  \n",
      "140582  3f4cba62-9a10-429c-93a8-bfc8eb2b4859      23086        383  \n",
      "        id     x1     y1     x2     y2  label  confidence  \\\n",
      "127973   8  387.0  294.0  508.0  391.0    236         NaN   \n",
      "\n",
      "                                    objectid  frame_num  conceptid  \n",
      "127973  3f6122f5-942c-4ea3-bf3e-c0eb9ee54b2d      21998        236  \n",
      "       id         x1          y1          x2          y2  label  confidence  \\\n",
      "69008  40  19.006748  194.241302  119.932823  296.043335    236    0.224723   \n",
      "\n",
      "                                   objectid  frame_num  conceptid  \n",
      "69008  46b1f268-a1d3-4201-9ba8-d473e2d9e0ef      13840        236  \n",
      "       id     x1     y1     x2     y2  label  confidence  \\\n",
      "66462  43  331.0  195.0  473.0  291.0   1210         NaN   \n",
      "\n",
      "                                   objectid  frame_num  conceptid  \n",
      "66462  4b93633d-c402-4e18-b78f-a6dfe695eb3f      12453       1210  \n",
      "        id    x1     y1     x2     y2  label  confidence  \\\n",
      "174358  50  67.0  197.0  198.0  315.0    383         NaN   \n",
      "\n",
      "                                    objectid  frame_num  conceptid  \n",
      "174358  50a04e84-10e5-4c05-9498-820c3699fb7f      27961        383  \n",
      "       id     x1     y1     x2     y2  label  confidence  \\\n",
      "91691  32  125.0  321.0  258.0  447.0    383         NaN   \n",
      "\n",
      "                                   objectid  frame_num  conceptid  \n",
      "91691  5a9eec49-4506-46fb-93b5-841a9e027bbb      17112        383  \n",
      "       id     x1     y1     x2     y2  label  confidence  \\\n",
      "37667  32  458.0  168.0  585.0  271.0    383         NaN   \n",
      "\n",
      "                                   objectid  frame_num  conceptid  \n",
      "37667  5b6d6a63-15a7-4468-9319-c2797c328c7e       7812        383  \n",
      "       id     x1     y1     x2     y2  label  confidence  \\\n",
      "29959  46  332.0  184.0  455.0  282.0   1210         NaN   \n",
      "\n",
      "                                   objectid  frame_num  conceptid  \n",
      "29959  5c0ac59a-32a7-4bbf-912a-f48846dd7486       6886       1210  \n",
      "        id     x1    y1     x2     y2  label  confidence  \\\n",
      "107260  19  528.0  22.0  640.0  119.0    236         NaN   \n",
      "\n",
      "                                    objectid  frame_num  conceptid  \n",
      "107260  5cec329f-e1af-4120-b477-0f9313023252      19649        236  \n",
      "       id    x1     y1    x2     y2  label  confidence  \\\n",
      "47195  59  14.0  186.0  83.0  303.0    383         NaN   \n",
      "\n",
      "                                   objectid  frame_num  conceptid  \n",
      "47195  5e6a1495-4192-47f6-9484-f5442ee8fa7d       9339        383  \n",
      "       id          x1          y1          x2         y2  label  confidence  \\\n",
      "64983  30  110.820641  177.132858  339.163116  357.24588    383    0.116482   \n",
      "\n",
      "                                   objectid  frame_num  conceptid  \n",
      "64983  615f3131-5f7f-4d27-91fd-13eead908317      12240        383  \n",
      "       id     x1     y1     x2     y2  label  confidence  \\\n",
      "55858  49  281.0  115.0  492.0  280.0    383         NaN   \n",
      "\n",
      "                                   objectid  frame_num  conceptid  \n",
      "55858  61862b1c-f84d-4813-8372-d2807d1ff9ae      10389        383  \n",
      "       id    x1     y1     x2     y2  label  confidence  \\\n",
      "54077  26  66.0  130.0  186.0  221.0    383         NaN   \n",
      "\n",
      "                                   objectid  frame_num  conceptid  \n",
      "54077  63e6a96d-d54b-48b6-aa22-64ef922f77bd      10276        383  \n",
      "       id         x1          y1          x2          y2  label  confidence  \\\n",
      "16756  40  123.37439  138.467148  323.203918  297.437988    383     0.50223   \n",
      "\n",
      "                                   objectid  frame_num  conceptid  \n",
      "16756  65c46546-9e6a-4bd9-bb47-31e997491821       4180        383  \n",
      "       id   x1    y1     x2     y2  label  confidence  \\\n",
      "40544  48  8.0  66.0  292.0  292.0    383         NaN   \n",
      "\n",
      "                                   objectid  frame_num  conceptid  \n",
      "40544  670cd31e-508d-43c3-a054-aedfea31ec30       7998        383  \n",
      "        id          x1         y1          x2          y2  label  confidence  \\\n",
      "159105  60  356.983307  68.004295  515.474487  170.271667    383     0.14686   \n",
      "\n",
      "                                    objectid  frame_num  conceptid  \n",
      "159105  6c64163a-eb6c-4c8c-8307-b4b1b11bad19      26240        383  \n",
      "       id    x1     y1     x2     y2  label  confidence  \\\n",
      "52020  31  16.0  252.0  329.0  480.0    383         NaN   \n",
      "\n",
      "                                   objectid  frame_num  conceptid  \n",
      "52020  6d758d3d-7357-44a0-a03d-7928a8571587       9791        383  \n",
      "        id     x1     y1     x2     y2  label  confidence  \\\n",
      "129522  31  170.0  122.0  280.0  214.0    236         NaN   \n",
      "\n",
      "                                    objectid  frame_num  conceptid  \n",
      "129522  6e3a5a3d-4db3-42ba-8cd5-f6c866a079ff      22022        236  \n",
      "       id     x1     y1     x2     y2  label  confidence  \\\n",
      "16853  42  346.0  181.0  492.0  294.0    383         NaN   \n",
      "\n",
      "                                   objectid  frame_num  conceptid  \n",
      "16853  7156f801-74fb-442f-bc3c-86647b2d1e7b       4182        383  \n",
      "       id   x1     y1     x2     y2  label  confidence  \\\n",
      "18581  26  1.0  187.0  140.0  309.0    383         NaN   \n",
      "\n",
      "                                   objectid  frame_num  conceptid  \n",
      "18581  72956dad-974c-474f-acd7-35bf7a749068       5256        383  \n",
      "        id     x1     y1     x2     y2  label  confidence  \\\n",
      "176712  82  476.0  400.0  592.0  478.0    236         NaN   \n",
      "\n",
      "                                    objectid  frame_num  conceptid  \n",
      "176712  7357e7d4-770d-4df5-973c-d5a9ae486e12      28374        236  \n",
      "       id     x1     y1     x2     y2  label  confidence  \\\n",
      "64481  53  297.0  243.0  426.0  339.0    383         NaN   \n",
      "\n",
      "                                   objectid  frame_num  conceptid  \n",
      "64481  735fb71c-a36d-4f8e-b783-b2bd169893df      12123        383  \n",
      "       id    x1     y1     x2     y2  label  confidence  \\\n",
      "94671  68  47.0  174.0  177.0  283.0    383         NaN   \n",
      "\n",
      "                                   objectid  frame_num  conceptid  \n",
      "94671  75fe7e25-2e5b-4f0d-86b4-c83f21366768      17618        383  \n",
      "        id          x1          y1          x2          y2  label  confidence  \\\n",
      "116087  60  448.038025  153.911835  569.106628  253.175537    383    0.258524   \n",
      "\n",
      "                                    objectid  frame_num  conceptid  \n",
      "116087  79203211-5cf0-477d-b1ec-6120ca1c6fd2      20550        383  \n",
      "        id     x1     y1     x2     y2  label  confidence  \\\n",
      "173887  33  196.0  118.0  299.0  210.0    236         NaN   \n",
      "\n",
      "                                    objectid  frame_num  conceptid  \n",
      "173887  7a32afb8-efa3-4357-9768-8d1370b1ca14      27694        236  \n",
      "       id     x1     y1     x2     y2  label  confidence  \\\n",
      "97359  71  105.0  414.0  248.0  501.0    236         NaN   \n",
      "\n",
      "                                   objectid  frame_num  conceptid  \n",
      "97359  7cfa6c66-690b-4502-8ea1-4b3c15bbd0dc      18092        236  \n",
      "       id    x1     y1     x2     y2  label  confidence  \\\n",
      "56299  31  51.0  181.0  235.0  334.0    383         NaN   \n",
      "\n",
      "                                   objectid  frame_num  conceptid  \n",
      "56299  7d41e71b-4135-42ee-8ece-f4a917b21e4d      10522        383  \n",
      "       id     x1     y1     x2     y2  label  confidence  \\\n",
      "78667  27  486.0  374.0  585.0  454.0    236         NaN   \n",
      "\n",
      "                                   objectid  frame_num  conceptid  \n",
      "78667  7eb515c0-5f73-4fbd-bd2d-a5d20627420b      15018        236  \n",
      "        id     x1     y1     x2     y2  label  confidence  \\\n",
      "125728  35  311.0  301.0  414.0  386.0    236         NaN   \n",
      "\n",
      "                                    objectid  frame_num  conceptid  \n",
      "125728  84d7d55e-aad0-4005-8831-72e79fa91a0d      21826        236  \n",
      "       id    x1    y1     x2     y2  label  confidence  \\\n",
      "50754  34  86.0  15.0  227.0  135.0    383         NaN   \n",
      "\n",
      "                                   objectid  frame_num  conceptid  \n",
      "50754  84f12d80-14de-49ce-a537-29c47f8435a1       9724        383  \n",
      "        id     x1     y1     x2     y2  label  confidence  \\\n",
      "124836  25  160.0  288.0  252.0  376.0    236         NaN   \n",
      "\n",
      "                                    objectid  frame_num  conceptid  \n",
      "124836  868cae1c-45ae-465e-a23f-4c168b60f4a2      21566        236  \n",
      "        id          x1          y1          x2          y2  label  confidence  \\\n",
      "114821  39  246.660187  193.508469  344.380188  280.339417    236    0.128768   \n",
      "\n",
      "                                    objectid  frame_num  conceptid  \n",
      "114821  8822df4f-b9f2-4875-9ae2-a667666f90e7      20460        236  \n",
      "        id     x1     y1     x2     y2  label  confidence  \\\n",
      "174545  39  347.0  273.0  455.0  370.0    236         NaN   \n",
      "\n",
      "                                    objectid  frame_num  conceptid  \n",
      "174545  8c06f822-1ea7-449c-9d6b-689c698ca11f      28089        236  \n",
      "        id     x1     y1     x2     y2  label  confidence  \\\n",
      "117347  36  176.0  371.0  261.0  450.0    236         NaN   \n",
      "\n",
      "                                    objectid  frame_num  conceptid  \n",
      "117347  8f377188-1fde-49d3-a9e6-1dabadf9146a      20776        236  \n",
      "       id     x1    y1     x2     y2  label  confidence  \\\n",
      "74232  33  460.0  45.0  572.0  158.0    236         NaN   \n",
      "\n",
      "                                   objectid  frame_num  conceptid  \n",
      "74232  92bfae04-fd3e-445c-b2a2-7907b9c6969c      14924        236  \n",
      "        id     x1     y1     x2     y2  label  confidence  \\\n",
      "178198  17  319.0  191.0  412.0  273.0    236         NaN   \n",
      "\n",
      "                                    objectid  frame_num  conceptid  \n"
     ]
    },
    {
     "name": "stdout",
     "output_type": "stream",
     "text": [
      "178198  934d93bf-2c8c-44f9-ba4d-79c89f07a101      28627        236  \n",
      "       id     x1     y1     x2     y2  label  confidence  \\\n",
      "79869  49  254.0  287.0  363.0  368.0    236         NaN   \n",
      "\n",
      "                                   objectid  frame_num  conceptid  \n",
      "79869  94fa93b6-1f8f-4d44-b6be-4d19becb792c      15329        236  \n",
      "        id   x1     y1    x2     y2  label  confidence  \\\n",
      "178909  22  1.0  324.0  50.0  373.0    236         NaN   \n",
      "\n",
      "                                    objectid  frame_num  conceptid  \n",
      "178909  9795fb17-55a5-432a-9158-c49cabfe99d5      28702        236  \n",
      "        id     x1     y1     x2     y2  label  confidence  \\\n",
      "140922  54  143.0  168.0  285.0  281.0    383         NaN   \n",
      "\n",
      "                                    objectid  frame_num  conceptid  \n",
      "140922  9824a07a-a2d5-4daa-bee1-0216fa8d5814      23104        383  \n",
      "        id     x1     y1     x2     y2  label  confidence  \\\n",
      "155731  36  168.0  111.0  423.0  266.0    383         NaN   \n",
      "\n",
      "                                    objectid  frame_num  conceptid  \n",
      "155731  9bbc0fcf-847d-4df1-b90e-2c75128a7fd2      25006        383  \n",
      "       id     x1     y1     x2     y2  label  confidence  \\\n",
      "55958  50  271.0  147.0  433.0  248.0    383         NaN   \n",
      "\n",
      "                                   objectid  frame_num  conceptid  \n",
      "55958  9bfa5f1e-1052-4c50-afcc-d0642a3fb279      10390        383  \n",
      "       id     x1     y1     x2     y2  label  confidence  \\\n",
      "97221  34  485.0  295.0  599.0  397.0    236         NaN   \n",
      "\n",
      "                                   objectid  frame_num  conceptid  \n",
      "97221  a054c2a7-d026-4c98-95c6-4f68e8db503f      18104        236  \n",
      "        id         x1         y1          x2          y2  label  confidence  \\\n",
      "155507  49  203.27565  65.032646  364.083649  196.243164    383    0.185689   \n",
      "\n",
      "                                    objectid  frame_num  conceptid  \n",
      "155507  a1d8d726-8181-48dd-9813-d8edb84086b4      24780        383  \n",
      "        id     x1     y1     x2     y2  label  confidence  \\\n",
      "136456  31  235.0  364.0  293.0  418.0    236         NaN   \n",
      "\n",
      "                                    objectid  frame_num  conceptid  \n",
      "136456  a1f00a94-0e6a-4619-a5fc-0af035b186a6      22622        236  \n",
      "        id    x1     y1     x2     y2  label  confidence  \\\n",
      "114132  46  68.0  378.0  191.0  480.0    236         NaN   \n",
      "\n",
      "                                    objectid  frame_num  conceptid  \n",
      "114132  a532ec59-2014-4e5a-a2cc-8accb0cf21e2      20346        236  \n",
      "       id    x1     y1     x2     y2  label  confidence  \\\n",
      "20959  58  49.0  145.0  195.0  252.0    383         NaN   \n",
      "\n",
      "                                   objectid  frame_num  conceptid  \n",
      "20959  a68909ff-7870-4a45-9130-87b54df06729       5238        383  \n",
      "        id     x1     y1     x2     y2  label  confidence  \\\n",
      "101768  48  299.0  332.0  401.0  428.0    236         NaN   \n",
      "\n",
      "                                    objectid  frame_num  conceptid  \n",
      "101768  a6bdaeb9-fced-425c-8138-6c8279e09bec      18878        236  \n",
      "        id     x1     y1     x2     y2  label  confidence  \\\n",
      "162889  21  525.0  162.0  640.0  275.0    236         NaN   \n",
      "\n",
      "                                    objectid  frame_num  conceptid  \n",
      "162889  aadc9e6b-c4de-46b1-8ef4-f1074003e751      26501        236  \n",
      "       id     x1     y1     x2     y2  label  confidence  \\\n",
      "73445  50  444.0  295.0  502.0  341.0    236         NaN   \n",
      "\n",
      "                                   objectid  frame_num  conceptid  \n",
      "73445  aaf87526-d09f-4a11-a240-5896c8d5a724      14750        236  \n",
      "      id     x1     y1     x2     y2  label  confidence  \\\n",
      "1132  37  122.0  201.0  315.0  360.0    383         NaN   \n",
      "\n",
      "                                  objectid  frame_num  conceptid  \n",
      "1132  abf91b57-3a25-443a-b441-f2cefbed919f        288        383  \n",
      "       id     x1    y1     x2     y2  label  confidence  \\\n",
      "23870  37  359.0  68.0  545.0  240.0    383         NaN   \n",
      "\n",
      "                                   objectid  frame_num  conceptid  \n",
      "23870  ad6d8859-327e-4633-a724-aae478ccb624       5938        383  \n",
      "       id     x1     y1     x2     y2  label  confidence  \\\n",
      "34167  62  355.0  229.0  546.0  406.0    236         NaN   \n",
      "\n",
      "                                   objectid  frame_num  conceptid  \n",
      "34167  b2df5300-d05d-41fe-80b0-2453ef31e0e7       7042        236  \n",
      "       id    x1     y1     x2     y2  label  confidence  \\\n",
      "43510  51  73.0  366.0  223.0  480.0    383         NaN   \n",
      "\n",
      "                                   objectid  frame_num  conceptid  \n",
      "43510  b412f1b4-212e-424e-ab09-8b20a82db2da       8441        383  \n",
      "        id     x1    y1     x2     y2  label  confidence  \\\n",
      "175171  22  327.0  61.0  451.0  154.0    236         NaN   \n",
      "\n",
      "                                    objectid  frame_num  conceptid  \n",
      "175171  bbf9d663-d7bd-4d30-9931-27bea3644dbf      28282        236  \n",
      "        id    x1     y1     x2     y2  label  confidence  \\\n",
      "88603  143  40.0  446.0  158.0  507.0    236         NaN   \n",
      "\n",
      "                                   objectid  frame_num  conceptid  \n",
      "88603  be579992-0ef5-4a22-95da-107e52872ea9      16364        236  \n",
      "        id    x1     y1     x2     y2  label  confidence  \\\n",
      "125578  15  11.0  349.0  102.0  442.0    236         NaN   \n",
      "\n",
      "                                    objectid  frame_num  conceptid  \n",
      "125578  be79d710-d16a-4832-bf91-ef427a2a997c      21796        236  \n",
      "       id    x1     y1     x2     y2  label  confidence  \\\n",
      "65488  38  16.0  210.0  266.0  392.0    383         NaN   \n",
      "\n",
      "                                   objectid  frame_num  conceptid  \n",
      "65488  c67ca1de-7adc-4fcf-9973-2702191b7abd      12288        383  \n",
      "        id     x1     y1     x2     y2  label  confidence  \\\n",
      "170105  27  358.0  240.0  450.0  322.0    236         NaN   \n",
      "\n",
      "                                    objectid  frame_num  conceptid  \n",
      "170105  c9d65c99-42a6-4921-8265-1cc7ed52f215      26888        236  \n",
      "       id    x1     y1     x2     y2  label  confidence  \\\n",
      "56045  26  17.0  259.0  125.0  313.0   1210         NaN   \n",
      "\n",
      "                                   objectid  frame_num  conceptid  \n",
      "56045  ca25b5e6-28ed-41e5-af7f-30a2f9170ce3      10496       1210  \n",
      "       id     x1     y1     x2     y2  label  confidence  \\\n",
      "93665  53  360.0  172.0  471.0  266.0    236         NaN   \n",
      "\n",
      "                                   objectid  frame_num  conceptid  \n",
      "93665  cb00145f-9ab9-4cf2-8699-0052fb306e93      17274        236  \n",
      "       id     x1    y1     x2     y2  label  confidence  \\\n",
      "70456  44  498.0  14.0  649.0  233.0    383         NaN   \n",
      "\n",
      "                                   objectid  frame_num  conceptid  \n",
      "70456  cb1711f6-5a4a-4d8e-b5ca-6faca1c305e4      14514        383  \n",
      "       id     x1     y1     x2     y2  label  confidence  \\\n",
      "94451  38  430.0  171.0  587.0  298.0    383         NaN   \n",
      "\n",
      "                                   objectid  frame_num  conceptid  \n",
      "94451  d4e33e1a-a938-433d-bf78-d077ef310ab5      17498        383  \n",
      "        id     x1     y1     x2     y2  label  confidence  \\\n",
      "127263   8  357.0  218.0  446.0  298.0    236         NaN   \n",
      "\n",
      "                                    objectid  frame_num  conceptid  \n",
      "127263  d51da57f-5b6e-4a32-98b4-288ff0bf808c      21978        236  \n",
      "        id     x1     y1     x2     y2  label  confidence  \\\n",
      "173473  28  150.0  293.0  247.0  382.0    236         NaN   \n",
      "\n",
      "                                    objectid  frame_num  conceptid  \n",
      "173473  de8f552f-eb79-441c-82ad-e9e5601b12f0      27528        236  \n",
      "        id     x1     y1     x2     y2  label  confidence  \\\n",
      "178788  42  146.0  271.0  272.0  364.0    383         NaN   \n",
      "\n",
      "                                    objectid  frame_num  conceptid  \n",
      "178788  df3197a9-0258-4587-adb0-b685f5df62c5      28652        383  \n",
      "       id    x1     y1     x2     y2  label  confidence  \\\n",
      "69665  32  10.0  111.0  167.0  272.0    236         NaN   \n",
      "\n",
      "                                   objectid  frame_num  conceptid  \n",
      "69665  e307ca97-2955-4b65-8a55-a9a402aea0e0      14413        236  \n",
      "Empty DataFrame\n",
      "Columns: [id, x1, y1, x2, y2, label, confidence, objectid, frame_num, conceptid]\n",
      "Index: []\n",
      "        id     x1    y1     x2     y2  label  confidence  \\\n",
      "103549  51  479.0  44.0  572.0  132.0    236         NaN   \n",
      "\n",
      "                                    objectid  frame_num  conceptid  \n",
      "103549  e57afe9a-f962-40b5-b4a2-c36a3a81bdae      19041        236  \n",
      "       id     x1     y1     x2     y2  label  confidence  \\\n",
      "80403  37  287.0  178.0  420.0  302.0    236         NaN   \n",
      "\n",
      "                                   objectid  frame_num  conceptid  \n",
      "80403  e7974986-3d61-44f5-a910-b90c6c9e9beb      15798        236  \n",
      "       id     x1     y1     x2     y2  label  confidence  \\\n",
      "17642  44  429.0  203.0  608.0  335.0    383         NaN   \n",
      "\n",
      "                                   objectid  frame_num  conceptid  \n",
      "17642  ec3986f4-9b78-4e2a-94ac-8f39e66de8cf       4534        383  \n",
      "        id     x1     y1     x2     y2  label  confidence  \\\n",
      "135880  44  372.0  244.0  493.0  343.0    236         NaN   \n",
      "\n",
      "                                    objectid  frame_num  conceptid  \n",
      "135880  fd7e8280-772b-4fcb-b839-33c87a772e98      22474        236  \n"
     ]
    }
   ],
   "source": [
    "for obj in [df for _, df in results.groupby('objectid')]:\n",
    "    middle_frame = round(obj.frame_num.median(), 0)\n",
    "    frame = obj[obj.frame_num == middle_frame]\n",
    "    print(frame)\n",
    "    \n",
    "    "
   ]
  },
  {
   "cell_type": "code",
   "execution_count": 331,
   "metadata": {},
   "outputs": [
    {
     "data": {
      "text/plain": [
       "[array([1, 2, 3]), array([4, 5, 6])]"
      ]
     },
     "execution_count": 331,
     "metadata": {},
     "output_type": "execute_result"
    }
   ],
   "source": [
    "a = [np.array([1,2,3]),np.array([4,5,6])]\n",
    "a"
   ]
  },
  {
   "cell_type": "code",
   "execution_count": 276,
   "metadata": {},
   "outputs": [],
   "source": [
    "b = a"
   ]
  },
  {
   "cell_type": "code",
   "execution_count": 281,
   "metadata": {},
   "outputs": [
    {
     "data": {
      "text/plain": [
       "[array([1, 2, 3]), array([4, 5, 6])]"
      ]
     },
     "execution_count": 281,
     "metadata": {},
     "output_type": "execute_result"
    }
   ],
   "source": [
    "a[1].\n",
    "a"
   ]
  },
  {
   "cell_type": "code",
   "execution_count": 263,
   "metadata": {},
   "outputs": [
    {
     "data": {
      "text/plain": [
       "[1, 2, 3, 1]"
      ]
     },
     "execution_count": 263,
     "metadata": {},
     "output_type": "execute_result"
    }
   ],
   "source": [
    "b"
   ]
  },
  {
   "cell_type": "code",
   "execution_count": 264,
   "metadata": {},
   "outputs": [],
   "source": [
    "b = copy.deepcopy(a)"
   ]
  },
  {
   "cell_type": "code",
   "execution_count": 265,
   "metadata": {},
   "outputs": [],
   "source": [
    "a.append(5) "
   ]
  },
  {
   "cell_type": "code",
   "execution_count": 266,
   "metadata": {},
   "outputs": [
    {
     "data": {
      "text/plain": [
       "[1, 2, 3, 1]"
      ]
     },
     "execution_count": 266,
     "metadata": {},
     "output_type": "execute_result"
    }
   ],
   "source": [
    "b"
   ]
  },
  {
   "cell_type": "code",
   "execution_count": 267,
   "metadata": {},
   "outputs": [
    {
     "data": {
      "text/plain": [
       "[1, 2, 3, 1, 5]"
      ]
     },
     "execution_count": 267,
     "metadata": {},
     "output_type": "execute_result"
    }
   ],
   "source": [
    "a"
   ]
  }
 ],
 "metadata": {
  "kernelspec": {
   "display_name": "Python 3",
   "language": "python",
   "name": "python3"
  },
  "language_info": {
   "codemirror_mode": {
    "name": "ipython",
    "version": 3
   },
   "file_extension": ".py",
   "mimetype": "text/x-python",
   "name": "python",
   "nbconvert_exporter": "python",
   "pygments_lexer": "ipython3",
   "version": "3.6.8"
  }
 },
 "nbformat": 4,
 "nbformat_minor": 2
}
