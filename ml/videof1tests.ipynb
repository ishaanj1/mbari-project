{
 "cells": [
  {
   "cell_type": "code",
   "execution_count": 2,
   "metadata": {
    "scrolled": true
   },
   "outputs": [],
   "source": [
    "from loading_data import queryDB\n",
    "import pandas as pd"
   ]
  },
  {
   "cell_type": "code",
   "execution_count": 3,
   "metadata": {},
   "outputs": [],
   "source": [
    "import json\n",
    "import numpy as np\n",
    "import copy\n",
    "import os\n",
    "\n",
    "config_path = 'config.json'\n",
    "\n",
    "with open(config_path) as config_buffer:\n",
    "   config = json.loads(config_buffer.read())\n",
    "\n",
    "model_path = config['model_weights']\n",
    "num_concepts = len(config['conceptids'])\n",
    "class_map_file = config['class_map']\n",
    "concepts = config['conceptids']\n",
    "classmap = pd.read_csv(class_map_file, header=None).to_dict()[0]"
   ]
  },
  {
   "cell_type": "code",
   "execution_count": 4,
   "metadata": {},
   "outputs": [
    {
     "data": {
      "text/html": [
       "<div>\n",
       "<style scoped>\n",
       "    .dataframe tbody tr th:only-of-type {\n",
       "        vertical-align: middle;\n",
       "    }\n",
       "\n",
       "    .dataframe tbody tr th {\n",
       "        vertical-align: top;\n",
       "    }\n",
       "\n",
       "    .dataframe thead th {\n",
       "        text-align: right;\n",
       "    }\n",
       "</style>\n",
       "<table border=\"1\" class=\"dataframe\">\n",
       "  <thead>\n",
       "    <tr style=\"text-align: right;\">\n",
       "      <th></th>\n",
       "      <th>videoid</th>\n",
       "      <th>total</th>\n",
       "      <th>count1629</th>\n",
       "      <th>count1210</th>\n",
       "      <th>count236</th>\n",
       "      <th>count383</th>\n",
       "      <th>count1133</th>\n",
       "    </tr>\n",
       "  </thead>\n",
       "  <tbody>\n",
       "    <tr>\n",
       "      <th>0</th>\n",
       "      <td>37</td>\n",
       "      <td>3916</td>\n",
       "      <td>0</td>\n",
       "      <td>4</td>\n",
       "      <td>2885</td>\n",
       "      <td>1024</td>\n",
       "      <td>3</td>\n",
       "    </tr>\n",
       "    <tr>\n",
       "      <th>1</th>\n",
       "      <td>39</td>\n",
       "      <td>2186</td>\n",
       "      <td>0</td>\n",
       "      <td>0</td>\n",
       "      <td>1077</td>\n",
       "      <td>1108</td>\n",
       "      <td>1</td>\n",
       "    </tr>\n",
       "    <tr>\n",
       "      <th>2</th>\n",
       "      <td>38</td>\n",
       "      <td>1032</td>\n",
       "      <td>0</td>\n",
       "      <td>0</td>\n",
       "      <td>660</td>\n",
       "      <td>371</td>\n",
       "      <td>1</td>\n",
       "    </tr>\n",
       "    <tr>\n",
       "      <th>3</th>\n",
       "      <td>34</td>\n",
       "      <td>941</td>\n",
       "      <td>0</td>\n",
       "      <td>2</td>\n",
       "      <td>860</td>\n",
       "      <td>78</td>\n",
       "      <td>1</td>\n",
       "    </tr>\n",
       "    <tr>\n",
       "      <th>4</th>\n",
       "      <td>24</td>\n",
       "      <td>459</td>\n",
       "      <td>0</td>\n",
       "      <td>0</td>\n",
       "      <td>459</td>\n",
       "      <td>0</td>\n",
       "      <td>0</td>\n",
       "    </tr>\n",
       "    <tr>\n",
       "      <th>5</th>\n",
       "      <td>32</td>\n",
       "      <td>420</td>\n",
       "      <td>0</td>\n",
       "      <td>61</td>\n",
       "      <td>80</td>\n",
       "      <td>273</td>\n",
       "      <td>6</td>\n",
       "    </tr>\n",
       "    <tr>\n",
       "      <th>6</th>\n",
       "      <td>33</td>\n",
       "      <td>340</td>\n",
       "      <td>0</td>\n",
       "      <td>16</td>\n",
       "      <td>208</td>\n",
       "      <td>109</td>\n",
       "      <td>7</td>\n",
       "    </tr>\n",
       "    <tr>\n",
       "      <th>7</th>\n",
       "      <td>86</td>\n",
       "      <td>331</td>\n",
       "      <td>0</td>\n",
       "      <td>40</td>\n",
       "      <td>143</td>\n",
       "      <td>148</td>\n",
       "      <td>0</td>\n",
       "    </tr>\n",
       "    <tr>\n",
       "      <th>8</th>\n",
       "      <td>98</td>\n",
       "      <td>309</td>\n",
       "      <td>0</td>\n",
       "      <td>29</td>\n",
       "      <td>181</td>\n",
       "      <td>97</td>\n",
       "      <td>2</td>\n",
       "    </tr>\n",
       "    <tr>\n",
       "      <th>9</th>\n",
       "      <td>35</td>\n",
       "      <td>288</td>\n",
       "      <td>0</td>\n",
       "      <td>9</td>\n",
       "      <td>221</td>\n",
       "      <td>58</td>\n",
       "      <td>0</td>\n",
       "    </tr>\n",
       "    <tr>\n",
       "      <th>10</th>\n",
       "      <td>36</td>\n",
       "      <td>260</td>\n",
       "      <td>0</td>\n",
       "      <td>8</td>\n",
       "      <td>204</td>\n",
       "      <td>48</td>\n",
       "      <td>0</td>\n",
       "    </tr>\n",
       "    <tr>\n",
       "      <th>11</th>\n",
       "      <td>40</td>\n",
       "      <td>252</td>\n",
       "      <td>0</td>\n",
       "      <td>36</td>\n",
       "      <td>190</td>\n",
       "      <td>26</td>\n",
       "      <td>0</td>\n",
       "    </tr>\n",
       "    <tr>\n",
       "      <th>12</th>\n",
       "      <td>25</td>\n",
       "      <td>228</td>\n",
       "      <td>0</td>\n",
       "      <td>0</td>\n",
       "      <td>222</td>\n",
       "      <td>0</td>\n",
       "      <td>6</td>\n",
       "    </tr>\n",
       "    <tr>\n",
       "      <th>13</th>\n",
       "      <td>87</td>\n",
       "      <td>225</td>\n",
       "      <td>0</td>\n",
       "      <td>7</td>\n",
       "      <td>97</td>\n",
       "      <td>121</td>\n",
       "      <td>0</td>\n",
       "    </tr>\n",
       "    <tr>\n",
       "      <th>14</th>\n",
       "      <td>89</td>\n",
       "      <td>201</td>\n",
       "      <td>0</td>\n",
       "      <td>6</td>\n",
       "      <td>35</td>\n",
       "      <td>160</td>\n",
       "      <td>0</td>\n",
       "    </tr>\n",
       "    <tr>\n",
       "      <th>15</th>\n",
       "      <td>99</td>\n",
       "      <td>195</td>\n",
       "      <td>0</td>\n",
       "      <td>16</td>\n",
       "      <td>152</td>\n",
       "      <td>25</td>\n",
       "      <td>2</td>\n",
       "    </tr>\n",
       "    <tr>\n",
       "      <th>16</th>\n",
       "      <td>96</td>\n",
       "      <td>195</td>\n",
       "      <td>0</td>\n",
       "      <td>64</td>\n",
       "      <td>56</td>\n",
       "      <td>73</td>\n",
       "      <td>2</td>\n",
       "    </tr>\n",
       "    <tr>\n",
       "      <th>17</th>\n",
       "      <td>12</td>\n",
       "      <td>179</td>\n",
       "      <td>166</td>\n",
       "      <td>10</td>\n",
       "      <td>1</td>\n",
       "      <td>0</td>\n",
       "      <td>2</td>\n",
       "    </tr>\n",
       "    <tr>\n",
       "      <th>18</th>\n",
       "      <td>23</td>\n",
       "      <td>144</td>\n",
       "      <td>0</td>\n",
       "      <td>0</td>\n",
       "      <td>143</td>\n",
       "      <td>0</td>\n",
       "      <td>1</td>\n",
       "    </tr>\n",
       "    <tr>\n",
       "      <th>19</th>\n",
       "      <td>66</td>\n",
       "      <td>123</td>\n",
       "      <td>0</td>\n",
       "      <td>0</td>\n",
       "      <td>80</td>\n",
       "      <td>43</td>\n",
       "      <td>0</td>\n",
       "    </tr>\n",
       "  </tbody>\n",
       "</table>\n",
       "</div>"
      ],
      "text/plain": [
       "    videoid  total  count1629  count1210  count236  count383  count1133\n",
       "0        37   3916          0          4      2885      1024          3\n",
       "1        39   2186          0          0      1077      1108          1\n",
       "2        38   1032          0          0       660       371          1\n",
       "3        34    941          0          2       860        78          1\n",
       "4        24    459          0          0       459         0          0\n",
       "5        32    420          0         61        80       273          6\n",
       "6        33    340          0         16       208       109          7\n",
       "7        86    331          0         40       143       148          0\n",
       "8        98    309          0         29       181        97          2\n",
       "9        35    288          0          9       221        58          0\n",
       "10       36    260          0          8       204        48          0\n",
       "11       40    252          0         36       190        26          0\n",
       "12       25    228          0          0       222         0          6\n",
       "13       87    225          0          7        97       121          0\n",
       "14       89    201          0          6        35       160          0\n",
       "15       99    195          0         16       152        25          2\n",
       "16       96    195          0         64        56        73          2\n",
       "17       12    179        166         10         1         0          2\n",
       "18       23    144          0          0       143         0          1\n",
       "19       66    123          0          0        80        43          0"
      ]
     },
     "execution_count": 4,
     "metadata": {},
     "output_type": "execute_result"
    }
   ],
   "source": [
    "counts = queryDB('''\n",
    "    select videoid, count(*) as total, \n",
    "        sum(case when conceptid=1629 then 1 else 0 end) As count1629, \n",
    "        sum(case when conceptid=1210 then 1 else 0 end) As count1210, \n",
    "        sum(case when conceptid=236 then 1 else 0 end) As count236, \n",
    "        sum(case when conceptid=383 then 1 else 0 end) As count383, \n",
    "        sum(case when conceptid=1133 then 1 else 0 end) As count1133 \n",
    "    from annotations where userid != 17 and conceptid in (1629, 1210, 236, 383, 1133)\n",
    "    group by videoid \n",
    "    order by total desc;\n",
    "       ''')\n",
    "\n",
    "counts.head(20)\n",
    "       "
   ]
  },
  {
   "cell_type": "code",
   "execution_count": 5,
   "metadata": {
    "scrolled": true
   },
   "outputs": [
    {
     "data": {
      "text/html": [
       "<div>\n",
       "<style scoped>\n",
       "    .dataframe tbody tr th:only-of-type {\n",
       "        vertical-align: middle;\n",
       "    }\n",
       "\n",
       "    .dataframe tbody tr th {\n",
       "        vertical-align: top;\n",
       "    }\n",
       "\n",
       "    .dataframe thead th {\n",
       "        text-align: right;\n",
       "    }\n",
       "</style>\n",
       "<table border=\"1\" class=\"dataframe\">\n",
       "  <thead>\n",
       "    <tr style=\"text-align: right;\">\n",
       "      <th></th>\n",
       "      <th>id</th>\n",
       "      <th>filename</th>\n",
       "      <th>gpsstart</th>\n",
       "      <th>gpsstop</th>\n",
       "      <th>starttime</th>\n",
       "      <th>endtime</th>\n",
       "      <th>startdepth</th>\n",
       "      <th>enddepth</th>\n",
       "      <th>description</th>\n",
       "    </tr>\n",
       "  </thead>\n",
       "  <tbody>\n",
       "    <tr>\n",
       "      <th>0</th>\n",
       "      <td>8</td>\n",
       "      <td>DocRicketts-0701_20141216T212020Z_00-48-12-26T...</td>\n",
       "      <td>(36.798367,-122.108671)</td>\n",
       "      <td>(36.798215,-122.108195)</td>\n",
       "      <td>2014-12-16 21:20:20</td>\n",
       "      <td>2014-12-16 21:36:20</td>\n",
       "      <td>217</td>\n",
       "      <td>149</td>\n",
       "      <td></td>\n",
       "    </tr>\n",
       "  </tbody>\n",
       "</table>\n",
       "</div>"
      ],
      "text/plain": [
       "   id                                           filename  \\\n",
       "0   8  DocRicketts-0701_20141216T212020Z_00-48-12-26T...   \n",
       "\n",
       "                  gpsstart                  gpsstop           starttime  \\\n",
       "0  (36.798367,-122.108671)  (36.798215,-122.108195) 2014-12-16 21:20:20   \n",
       "\n",
       "              endtime  startdepth  enddepth description  \n",
       "0 2014-12-16 21:36:20         217       149              "
      ]
     },
     "execution_count": 5,
     "metadata": {},
     "output_type": "execute_result"
    }
   ],
   "source": [
    "queryDB(\"select * from videos where filename='DocRicketts-0701_20141216T212020Z_00-48-12-26TC_h264.mp4'\")\n"
   ]
  },
  {
   "cell_type": "code",
   "execution_count": 132,
   "metadata": {},
   "outputs": [],
   "source": [
    "annotations = queryDB('select * from annotations where videoid=86 and userid!=17')\n",
    "\n",
    "fps = 29.97002997002997\n",
    "annotations['frame_num'] = np.rint(annotations['timeinvideo'] * fps).astype(int)\n",
    "annotations.head()"
   ]
  },
  {
   "cell_type": "code",
   "execution_count": 134,
   "metadata": {},
   "outputs": [],
   "source": [
    "# Get the IOU value for two different annotations\n",
    "def compute_overlap(annotationA, annotationB):\n",
    "    # if there is no overlap in x dimension\n",
    "    if ((annotationB.x2 - annotationA.x1) < 0) or ((annotationA.x2 - annotationB.x1) < 0):\n",
    "        return 0\n",
    "    # if there is no overlap in y dimension\n",
    "    if ((annotationB.y2 - annotationA.y1) < 0) or ((annotationA.y2 - annotationB.y1) < 0):\n",
    "        return 0\n",
    "    \n",
    "    areaA = (annotationA.x2-annotationA.x1) * (annotationA.y2-annotationA.y1)\n",
    "    areaB = (annotationB.x2-annotationB.x1) * (annotationB.y2-annotationB.y1)\n",
    "\n",
    "    width = min(annotationA.x2,annotationB.x2) - min(annotationA.x1,annotationB.x1)\n",
    "    height = min(annotationA.y2,annotationB.y2) - min(annotationA.y1,annotationB.y1)\n",
    "    \n",
    "    area_intersect = height * width\n",
    "    iou = area_intersect / (areaA + areaB - area_intersect)\n",
    "    \n",
    "    return iou"
   ]
  },
  {
   "cell_type": "code",
   "execution_count": 135,
   "metadata": {},
   "outputs": [],
   "source": [
    "# GET RESULTS, RENAME ID COLUMNS in RESULTS\n",
    "\n",
    "results = pd.read_csv('results86.csv')\n",
    "results.columns = ['id', 'x1', 'y1', 'x2', 'y2', 'label', 'confidence', 'objectid', 'frame_num']\n",
    "\n",
    "#results.head()"
   ]
  },
  {
   "cell_type": "code",
   "execution_count": 136,
   "metadata": {},
   "outputs": [
    {
     "data": {
      "text/plain": [
       "2372"
      ]
     },
     "execution_count": 136,
     "metadata": {},
     "output_type": "execute_result"
    }
   ],
   "source": [
    "# Number of predicted objects\n",
    "len(results.objectid.value_counts())"
   ]
  },
  {
   "cell_type": "code",
   "execution_count": 137,
   "metadata": {},
   "outputs": [
    {
     "data": {
      "text/plain": [
       "331"
      ]
     },
     "execution_count": 137,
     "metadata": {},
     "output_type": "execute_result"
    }
   ],
   "source": [
    "# Number of test annotations for our concepts\n",
    "len(annotations[[(a in concepts) for a in annotations.conceptid]])"
   ]
  },
  {
   "cell_type": "code",
   "execution_count": null,
   "metadata": {},
   "outputs": [],
   "source": []
  },
  {
   "cell_type": "code",
   "execution_count": null,
   "metadata": {},
   "outputs": [],
   "source": []
  },
  {
   "cell_type": "code",
   "execution_count": 138,
   "metadata": {},
   "outputs": [],
   "source": [
    "# Limit Results based on object max frame confidence\n",
    "def conf_limit_objects(pred, threshold):\n",
    "    max_conf = pd.DataFrame(pred.groupby('objectid').confidence.max())\n",
    "    above_thresh = max_conf[max_conf.confidence > 0.30].index\n",
    "    return pred[[(obj in above_thresh) for obj in pred.objectid]]\n",
    "    "
   ]
  },
  {
   "cell_type": "code",
   "execution_count": 139,
   "metadata": {},
   "outputs": [],
   "source": [
    "results = conf_limit_objects(results, 0.30)"
   ]
  },
  {
   "cell_type": "code",
   "execution_count": 140,
   "metadata": {},
   "outputs": [
    {
     "data": {
      "text/plain": [
       "98"
      ]
     },
     "execution_count": 140,
     "metadata": {},
     "output_type": "execute_result"
    }
   ],
   "source": [
    "# Number of predicted objects post thresholding\n",
    "len(results.objectid.value_counts())"
   ]
  },
  {
   "cell_type": "code",
   "execution_count": 141,
   "metadata": {},
   "outputs": [],
   "source": [
    "# REVISED LABEL TRANSFER USING HIGHEST SUM OF CONFIDENCES\n",
    "\n",
    "# conf_sums = results.groupby(['objectid', 'label']).confidence.sum()\n",
    "# df = conf_sums.reset_index()\n",
    "# df2 = df.loc[df.groupby('objectid').label.idxmax()]\n",
    "# labels = dict(zip(df2.objectid, df2.label))\n",
    "# results['label'] = results.objectid.apply(lambda x: concepts[int(labels[x])])\n",
    "# results['conceptid'] = results['label']\n"
   ]
  },
  {
   "cell_type": "code",
   "execution_count": 142,
   "metadata": {},
   "outputs": [],
   "source": [
    "# REVISED LABEL TRANSFER USING HIGHEST MAXIMUM CONFIDENCE\n",
    "\n",
    "# conf_max = results.groupby(['objectid', 'label']).confidence.max()\n",
    "# df = conf_max.reset_index()\n",
    "# df2 = df.loc[df.groupby('objectid').label.idxmax()]\n",
    "# labels = dict(zip(df2.objectid, df2.label))\n",
    "# results['label'] = results.objectid.apply(lambda x: concepts[int(labels[x])])\n",
    "# results['conceptid'] = results['label']\n"
   ]
  },
  {
   "cell_type": "code",
   "execution_count": 143,
   "metadata": {
    "scrolled": false
   },
   "outputs": [],
   "source": [
    "# Add the majority concept id to all frames\n",
    "\n",
    "label = None\n",
    "objects = results.groupby(['objectid'])\n",
    "for oid, result in objects:\n",
    "    scores = {}\n",
    "    # SHOULD THIS BE A WEIGHTED SUM??\n",
    "    for k , label in result.groupby(['label']):\n",
    "        scores[k] = label.confidence.mean() # MEAN / MAX / SUM?\n",
    "    idmax = max(scores.keys(), key=(lambda k: scores[k]))\n",
    "    results.loc[results.objectid == oid, 'label'] = idmax\n",
    "results['label'] = results['label'].apply(lambda x: concepts[int(x)])\n",
    "results['conceptid'] = results['label']"
   ]
  },
  {
   "cell_type": "code",
   "execution_count": 144,
   "metadata": {},
   "outputs": [],
   "source": [
    "#results.groupby('objectid').label.value_counts()"
   ]
  },
  {
   "cell_type": "code",
   "execution_count": 145,
   "metadata": {},
   "outputs": [],
   "source": [
    "# Limit results based on tracked object length ( > 30 frames)\n",
    "def length_limit_objects(pred, threshold):\n",
    "    obj_len = pred.groupby('objectid').conceptid.value_counts()\n",
    "    len_thresh = obj_len[obj_len > threshold]\n",
    "    return pred[[(obj in len_thresh) for obj in pred.objectid]] "
   ]
  },
  {
   "cell_type": "code",
   "execution_count": 146,
   "metadata": {},
   "outputs": [],
   "source": [
    "results = length_limit_objects(results, 15)"
   ]
  },
  {
   "cell_type": "code",
   "execution_count": 147,
   "metadata": {},
   "outputs": [
    {
     "data": {
      "text/plain": [
       "93"
      ]
     },
     "execution_count": 147,
     "metadata": {},
     "output_type": "execute_result"
    }
   ],
   "source": [
    "len(results.objectid.value_counts())"
   ]
  },
  {
   "cell_type": "code",
   "execution_count": null,
   "metadata": {},
   "outputs": [],
   "source": []
  },
  {
   "cell_type": "code",
   "execution_count": 148,
   "metadata": {},
   "outputs": [],
   "source": [
    "# test counts\n",
    "def get_counts(results):\n",
    "    grouped = results.groupby(['objectid']).label.mean().reset_index()\n",
    "    counts = grouped.groupby('label').count()\n",
    "    counts.columns = ['pred_num']\n",
    "    groundtruth_counts = pd.DataFrame(annotations.groupby('conceptid').id.count())\n",
    "    groundtruth_counts.columns = ['true_num']\n",
    "    return pd.concat((counts, groundtruth_counts), axis=1, join='outer').fillna(0)\n"
   ]
  },
  {
   "cell_type": "code",
   "execution_count": 149,
   "metadata": {},
   "outputs": [],
   "source": [
    "concept_counts = get_counts(results)"
   ]
  },
  {
   "cell_type": "code",
   "execution_count": 151,
   "metadata": {},
   "outputs": [],
   "source": [
    "def resize(row):\n",
    "    new_width = 640\n",
    "    new_height = 480\n",
    "    x_ratio = (row.videowidth / new_width)\n",
    "    y_ratio = (row.videoheight / new_height)\n",
    "    row.videowidth = new_width\n",
    "    row.videoheight = new_height\n",
    "    row.x1 = row.x1 / x_ratio\n",
    "    row.x2 = row.x2 / x_ratio\n",
    "    row.y1 = row.y1 / y_ratio\n",
    "    row.y2 = row.y2 / y_ratio\n",
    "    return row"
   ]
  },
  {
   "cell_type": "code",
   "execution_count": 152,
   "metadata": {},
   "outputs": [],
   "source": [
    "# RESIZE THE ANNOTATIONS\n",
    "annotations = annotations.apply(resize, axis=1)"
   ]
  },
  {
   "cell_type": "code",
   "execution_count": 153,
   "metadata": {},
   "outputs": [],
   "source": [
    "# pred_frames = results.frame_num.unique()\n",
    "# test_frames = annotations.frame_num.unique()\n",
    "# test_frames[[(val in pred_frames) for val in test_frames]]\n",
    "# test_frames"
   ]
  },
  {
   "cell_type": "code",
   "execution_count": 154,
   "metadata": {},
   "outputs": [],
   "source": [
    "def score_predictions(validation, predictions, iou_thresh, concepts, fps):\n",
    "    \n",
    "    # Maintain a set of predicted objects to verify\n",
    "    detected_objects = []\n",
    "    obj_map = predictions.groupby('objectid', sort=False).conceptid.max()\n",
    "    \n",
    "    # group predictions by video frames\n",
    "    predictions = predictions.groupby('frame_num', sort=False)\n",
    "    predictions = [df for _, df in predictions]\n",
    "    \n",
    "    # mapping frames to predictions index\n",
    "    frame_data = {}\n",
    "    for i, group in enumerate(predictions):\n",
    "        frame_num = group.iloc[0]['frame_num']\n",
    "        frame_data[frame_num] = i\n",
    "    \n",
    "    # group validation annotations by frames\n",
    "    validation = validation.groupby('frame_num', sort=False)\n",
    "    validation = [df for _, df in validation]\n",
    "    \n",
    "    # initialize counters for each concept\n",
    "    true_positives = dict(zip(concepts,[0] * len(concepts)))\n",
    "    false_positives = dict(zip(concepts,[0] * len(concepts)))\n",
    "    false_negatives = dict(zip(concepts,[0] * len(concepts)))\n",
    "    \n",
    "    # get true and false positives for each frame of validation data\n",
    "    for group in validation:\n",
    "        try: # get corresponding predictions for this frame\n",
    "            frame_num = group.iloc[0]['frame_num']\n",
    "            predicted = predictions[frame_data[frame_num]]\n",
    "        except:\n",
    "            continue # False Negatives already covered\n",
    "            \n",
    "        detected_truths = dict(zip(concepts, [0] * len(concepts)))\n",
    "        for index, truth in group.iterrows():\n",
    "            for index, prediction in predicted.iterrows():\n",
    "                if (prediction.conceptid == truth.conceptid\n",
    "                        and compute_overlap(truth, prediction) > iou_thresh\n",
    "                        and prediction.objectid not in detected_objects):\n",
    "                    detected_objects.append(prediction.objectid)\n",
    "                    true_positives[prediction.conceptid] += 1\n",
    "                    detected_truths[prediction.conceptid] += 1\n",
    "                    \n",
    "        # False Negatives (Missed ground truth predicitions)\n",
    "        counts = group.conceptid.value_counts()\n",
    "        for concept in concepts:\n",
    "            count = counts[concept] if (concept in counts.index) else 0\n",
    "            false_negatives[concept] += count - detected_truths[concept]\n",
    "    \n",
    "    # False Positives (No ground truth prediction at any frame for that object)\n",
    "    undetected_objects = set(obj_map.index) - set(detected_objects)\n",
    "    for obj in undetected_objects:\n",
    "        concept = obj_map[obj]\n",
    "        false_positives[concept] += 1\n",
    "    \n",
    "    metrics = pd.DataFrame()\n",
    "    for concept in concepts:\n",
    "        TP = true_positives[concept]\n",
    "        FP = false_positives[concept]\n",
    "        FN = false_negatives[concept]\n",
    "        precision = TP / (TP + FP) if (TP + FP) != 0 else 0\n",
    "        recall = TP / (TP + FN) if (TP + FN) != 0 else 0\n",
    "        f1 = (2*recall*precision / (precision+recall)) if (precision+recall) != 0 else 0\n",
    "        metrics = metrics.append([[concept, TP, FP, FN, precision, recall, f1]])\n",
    "    metrics.columns = ['conceptid', 'TP', 'FP', 'FN', 'Precision', 'Recall', 'F1']\n",
    "    return metrics\n"
   ]
  },
  {
   "cell_type": "code",
   "execution_count": 155,
   "metadata": {},
   "outputs": [],
   "source": [
    "fps = 29.97002997002997\n",
    "metrics = score_predictions(test_annotations, results, 0.25, concepts, fps)\n"
   ]
  },
  {
   "cell_type": "code",
   "execution_count": 156,
   "metadata": {},
   "outputs": [],
   "source": [
    "#metrics.set_index('conceptid')"
   ]
  },
  {
   "cell_type": "code",
   "execution_count": 157,
   "metadata": {},
   "outputs": [
    {
     "data": {
      "text/html": [
       "<div>\n",
       "<style scoped>\n",
       "    .dataframe tbody tr th:only-of-type {\n",
       "        vertical-align: middle;\n",
       "    }\n",
       "\n",
       "    .dataframe tbody tr th {\n",
       "        vertical-align: top;\n",
       "    }\n",
       "\n",
       "    .dataframe thead th {\n",
       "        text-align: right;\n",
       "    }\n",
       "</style>\n",
       "<table border=\"1\" class=\"dataframe\">\n",
       "  <thead>\n",
       "    <tr style=\"text-align: right;\">\n",
       "      <th></th>\n",
       "      <th>TP</th>\n",
       "      <th>FP</th>\n",
       "      <th>FN</th>\n",
       "      <th>Precision</th>\n",
       "      <th>Recall</th>\n",
       "      <th>F1</th>\n",
       "      <th>pred_num</th>\n",
       "      <th>true_num</th>\n",
       "    </tr>\n",
       "    <tr>\n",
       "      <th>conceptid</th>\n",
       "      <th></th>\n",
       "      <th></th>\n",
       "      <th></th>\n",
       "      <th></th>\n",
       "      <th></th>\n",
       "      <th></th>\n",
       "      <th></th>\n",
       "      <th></th>\n",
       "    </tr>\n",
       "  </thead>\n",
       "  <tbody>\n",
       "    <tr>\n",
       "      <th>1629</th>\n",
       "      <td>0</td>\n",
       "      <td>0</td>\n",
       "      <td>0</td>\n",
       "      <td>0.000000</td>\n",
       "      <td>0.000000</td>\n",
       "      <td>0.000000</td>\n",
       "      <td>NaN</td>\n",
       "      <td>NaN</td>\n",
       "    </tr>\n",
       "    <tr>\n",
       "      <th>1210</th>\n",
       "      <td>1</td>\n",
       "      <td>2</td>\n",
       "      <td>12</td>\n",
       "      <td>0.333333</td>\n",
       "      <td>0.076923</td>\n",
       "      <td>0.125000</td>\n",
       "      <td>3.0</td>\n",
       "      <td>40.0</td>\n",
       "    </tr>\n",
       "    <tr>\n",
       "      <th>236</th>\n",
       "      <td>24</td>\n",
       "      <td>23</td>\n",
       "      <td>33</td>\n",
       "      <td>0.510638</td>\n",
       "      <td>0.421053</td>\n",
       "      <td>0.461538</td>\n",
       "      <td>47.0</td>\n",
       "      <td>143.0</td>\n",
       "    </tr>\n",
       "    <tr>\n",
       "      <th>383</th>\n",
       "      <td>39</td>\n",
       "      <td>4</td>\n",
       "      <td>22</td>\n",
       "      <td>0.906977</td>\n",
       "      <td>0.639344</td>\n",
       "      <td>0.750000</td>\n",
       "      <td>43.0</td>\n",
       "      <td>148.0</td>\n",
       "    </tr>\n",
       "    <tr>\n",
       "      <th>1133</th>\n",
       "      <td>0</td>\n",
       "      <td>0</td>\n",
       "      <td>0</td>\n",
       "      <td>0.000000</td>\n",
       "      <td>0.000000</td>\n",
       "      <td>0.000000</td>\n",
       "      <td>NaN</td>\n",
       "      <td>NaN</td>\n",
       "    </tr>\n",
       "  </tbody>\n",
       "</table>\n",
       "</div>"
      ],
      "text/plain": [
       "           TP  FP  FN  Precision    Recall        F1  pred_num  true_num\n",
       "conceptid                                                               \n",
       "1629        0   0   0   0.000000  0.000000  0.000000       NaN       NaN\n",
       "1210        1   2  12   0.333333  0.076923  0.125000       3.0      40.0\n",
       "236        24  23  33   0.510638  0.421053  0.461538      47.0     143.0\n",
       "383        39   4  22   0.906977  0.639344  0.750000      43.0     148.0\n",
       "1133        0   0   0   0.000000  0.000000  0.000000       NaN       NaN"
      ]
     },
     "execution_count": 157,
     "metadata": {},
     "output_type": "execute_result"
    }
   ],
   "source": [
    "metrics.set_index('conceptid').join(concept_counts)"
   ]
  },
  {
   "cell_type": "code",
   "execution_count": null,
   "metadata": {},
   "outputs": [],
   "source": [
    "# Aim for 90% precision, at the sacrifice of 50% recall"
   ]
  },
  {
   "cell_type": "code",
   "execution_count": null,
   "metadata": {},
   "outputs": [],
   "source": [
    "# make a threshold for the bounding box size of the annotation\n",
    "# for the maximum confidence annotation in each object\n",
    "# maybe 10x10 pixels"
   ]
  },
  {
   "cell_type": "code",
   "execution_count": null,
   "metadata": {},
   "outputs": [],
   "source": []
  }
 ],
 "metadata": {
  "kernelspec": {
   "display_name": "Python 3",
   "language": "python",
   "name": "python3"
  },
  "language_info": {
   "codemirror_mode": {
    "name": "ipython",
    "version": 3
   },
   "file_extension": ".py",
   "mimetype": "text/x-python",
   "name": "python",
   "nbconvert_exporter": "python",
   "pygments_lexer": "ipython3",
   "version": "3.6.8"
  }
 },
 "nbformat": 4,
 "nbformat_minor": 2
}
